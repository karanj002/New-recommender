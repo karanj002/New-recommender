{
 "cells": [
  {
   "cell_type": "code",
   "execution_count": 1,
   "id": "34964b4a",
   "metadata": {},
   "outputs": [
    {
     "name": "stdout",
     "output_type": "stream",
     "text": [
      "Note: you may need to restart the kernel to use updated packages.\n"
     ]
    },
    {
     "name": "stderr",
     "output_type": "stream",
     "text": [
      "The syntax of the command is incorrect.\n"
     ]
    }
   ],
   "source": [
    "pip install -U tensorflow-text==<version>"
   ]
  },
  {
   "cell_type": "code",
   "execution_count": 2,
   "id": "ad54299a",
   "metadata": {},
   "outputs": [],
   "source": [
    "import tensorflow_text as text"
   ]
  },
  {
   "cell_type": "code",
   "execution_count": 3,
   "id": "2b5505c1",
   "metadata": {},
   "outputs": [],
   "source": [
    "import tensorflow_hub as hub "
   ]
  },
  {
   "cell_type": "code",
   "execution_count": 4,
   "id": "edff1c9c",
   "metadata": {},
   "outputs": [],
   "source": [
    "preprocess_url = \"https://tfhub.dev/tensorflow/bert_en_uncased_preprocess/3\"\n",
    "encoder_url = \"https://tfhub.dev/tensorflow/bert_en_uncased_L-12_H-768_A-12/4\""
   ]
  },
  {
   "cell_type": "code",
   "execution_count": 5,
   "id": "2c9ff4d1",
   "metadata": {},
   "outputs": [
    {
     "name": "stdout",
     "output_type": "stream",
     "text": [
      "WARNING:tensorflow:Please fix your imports. Module tensorflow.python.training.tracking.data_structures has been moved to tensorflow.python.trackable.data_structures. The old module will be deleted in version 2.11.\n"
     ]
    }
   ],
   "source": [
    "bert_preprocess_model = hub.KerasLayer(preprocess_url)"
   ]
  },
  {
   "cell_type": "code",
   "execution_count": 6,
   "id": "d241f288",
   "metadata": {},
   "outputs": [
    {
     "data": {
      "text/plain": [
       "dict_keys(['input_word_ids', 'input_mask', 'input_type_ids'])"
      ]
     },
     "execution_count": 6,
     "metadata": {},
     "output_type": "execute_result"
    }
   ],
   "source": [
    "text_test = ['nice movie indeed','I love python programming']\n",
    "text_preprocessed = bert_preprocess_model(text_test)\n",
    "text_preprocessed.keys()\n"
   ]
  },
  {
   "cell_type": "code",
   "execution_count": 7,
   "id": "b0fb9733",
   "metadata": {},
   "outputs": [
    {
     "data": {
      "text/plain": [
       "<tf.Tensor: shape=(2, 128), dtype=int32, numpy=\n",
       "array([[  101,  3835,  3185,  5262,   102,     0,     0,     0,     0,\n",
       "            0,     0,     0,     0,     0,     0,     0,     0,     0,\n",
       "            0,     0,     0,     0,     0,     0,     0,     0,     0,\n",
       "            0,     0,     0,     0,     0,     0,     0,     0,     0,\n",
       "            0,     0,     0,     0,     0,     0,     0,     0,     0,\n",
       "            0,     0,     0,     0,     0,     0,     0,     0,     0,\n",
       "            0,     0,     0,     0,     0,     0,     0,     0,     0,\n",
       "            0,     0,     0,     0,     0,     0,     0,     0,     0,\n",
       "            0,     0,     0,     0,     0,     0,     0,     0,     0,\n",
       "            0,     0,     0,     0,     0,     0,     0,     0,     0,\n",
       "            0,     0,     0,     0,     0,     0,     0,     0,     0,\n",
       "            0,     0,     0,     0,     0,     0,     0,     0,     0,\n",
       "            0,     0,     0,     0,     0,     0,     0,     0,     0,\n",
       "            0,     0,     0,     0,     0,     0,     0,     0,     0,\n",
       "            0,     0],\n",
       "       [  101,  1045,  2293, 18750,  4730,   102,     0,     0,     0,\n",
       "            0,     0,     0,     0,     0,     0,     0,     0,     0,\n",
       "            0,     0,     0,     0,     0,     0,     0,     0,     0,\n",
       "            0,     0,     0,     0,     0,     0,     0,     0,     0,\n",
       "            0,     0,     0,     0,     0,     0,     0,     0,     0,\n",
       "            0,     0,     0,     0,     0,     0,     0,     0,     0,\n",
       "            0,     0,     0,     0,     0,     0,     0,     0,     0,\n",
       "            0,     0,     0,     0,     0,     0,     0,     0,     0,\n",
       "            0,     0,     0,     0,     0,     0,     0,     0,     0,\n",
       "            0,     0,     0,     0,     0,     0,     0,     0,     0,\n",
       "            0,     0,     0,     0,     0,     0,     0,     0,     0,\n",
       "            0,     0,     0,     0,     0,     0,     0,     0,     0,\n",
       "            0,     0,     0,     0,     0,     0,     0,     0,     0,\n",
       "            0,     0,     0,     0,     0,     0,     0,     0,     0,\n",
       "            0,     0]])>"
      ]
     },
     "execution_count": 7,
     "metadata": {},
     "output_type": "execute_result"
    }
   ],
   "source": [
    "text_preprocessed['input_word_ids']"
   ]
  },
  {
   "cell_type": "code",
   "execution_count": 9,
   "id": "5ef521f8",
   "metadata": {
    "scrolled": true
   },
   "outputs": [
    {
     "data": {
      "text/plain": [
       "<tf.Tensor: shape=(2, 128), dtype=int32, numpy=\n",
       "array([[1, 1, 1, 1, 1, 0, 0, 0, 0, 0, 0, 0, 0, 0, 0, 0, 0, 0, 0, 0, 0, 0,\n",
       "        0, 0, 0, 0, 0, 0, 0, 0, 0, 0, 0, 0, 0, 0, 0, 0, 0, 0, 0, 0, 0, 0,\n",
       "        0, 0, 0, 0, 0, 0, 0, 0, 0, 0, 0, 0, 0, 0, 0, 0, 0, 0, 0, 0, 0, 0,\n",
       "        0, 0, 0, 0, 0, 0, 0, 0, 0, 0, 0, 0, 0, 0, 0, 0, 0, 0, 0, 0, 0, 0,\n",
       "        0, 0, 0, 0, 0, 0, 0, 0, 0, 0, 0, 0, 0, 0, 0, 0, 0, 0, 0, 0, 0, 0,\n",
       "        0, 0, 0, 0, 0, 0, 0, 0, 0, 0, 0, 0, 0, 0, 0, 0, 0, 0],\n",
       "       [1, 1, 1, 1, 1, 1, 0, 0, 0, 0, 0, 0, 0, 0, 0, 0, 0, 0, 0, 0, 0, 0,\n",
       "        0, 0, 0, 0, 0, 0, 0, 0, 0, 0, 0, 0, 0, 0, 0, 0, 0, 0, 0, 0, 0, 0,\n",
       "        0, 0, 0, 0, 0, 0, 0, 0, 0, 0, 0, 0, 0, 0, 0, 0, 0, 0, 0, 0, 0, 0,\n",
       "        0, 0, 0, 0, 0, 0, 0, 0, 0, 0, 0, 0, 0, 0, 0, 0, 0, 0, 0, 0, 0, 0,\n",
       "        0, 0, 0, 0, 0, 0, 0, 0, 0, 0, 0, 0, 0, 0, 0, 0, 0, 0, 0, 0, 0, 0,\n",
       "        0, 0, 0, 0, 0, 0, 0, 0, 0, 0, 0, 0, 0, 0, 0, 0, 0, 0]])>"
      ]
     },
     "execution_count": 9,
     "metadata": {},
     "output_type": "execute_result"
    }
   ],
   "source": [
    "text_preprocessed['input_mask']"
   ]
  },
  {
   "cell_type": "code",
   "execution_count": 10,
   "id": "262d04f6",
   "metadata": {
    "scrolled": true
   },
   "outputs": [
    {
     "data": {
      "text/plain": [
       "<tf.Tensor: shape=(2, 128), dtype=int32, numpy=\n",
       "array([[0, 0, 0, 0, 0, 0, 0, 0, 0, 0, 0, 0, 0, 0, 0, 0, 0, 0, 0, 0, 0, 0,\n",
       "        0, 0, 0, 0, 0, 0, 0, 0, 0, 0, 0, 0, 0, 0, 0, 0, 0, 0, 0, 0, 0, 0,\n",
       "        0, 0, 0, 0, 0, 0, 0, 0, 0, 0, 0, 0, 0, 0, 0, 0, 0, 0, 0, 0, 0, 0,\n",
       "        0, 0, 0, 0, 0, 0, 0, 0, 0, 0, 0, 0, 0, 0, 0, 0, 0, 0, 0, 0, 0, 0,\n",
       "        0, 0, 0, 0, 0, 0, 0, 0, 0, 0, 0, 0, 0, 0, 0, 0, 0, 0, 0, 0, 0, 0,\n",
       "        0, 0, 0, 0, 0, 0, 0, 0, 0, 0, 0, 0, 0, 0, 0, 0, 0, 0],\n",
       "       [0, 0, 0, 0, 0, 0, 0, 0, 0, 0, 0, 0, 0, 0, 0, 0, 0, 0, 0, 0, 0, 0,\n",
       "        0, 0, 0, 0, 0, 0, 0, 0, 0, 0, 0, 0, 0, 0, 0, 0, 0, 0, 0, 0, 0, 0,\n",
       "        0, 0, 0, 0, 0, 0, 0, 0, 0, 0, 0, 0, 0, 0, 0, 0, 0, 0, 0, 0, 0, 0,\n",
       "        0, 0, 0, 0, 0, 0, 0, 0, 0, 0, 0, 0, 0, 0, 0, 0, 0, 0, 0, 0, 0, 0,\n",
       "        0, 0, 0, 0, 0, 0, 0, 0, 0, 0, 0, 0, 0, 0, 0, 0, 0, 0, 0, 0, 0, 0,\n",
       "        0, 0, 0, 0, 0, 0, 0, 0, 0, 0, 0, 0, 0, 0, 0, 0, 0, 0]])>"
      ]
     },
     "execution_count": 10,
     "metadata": {},
     "output_type": "execute_result"
    }
   ],
   "source": [
    "text_preprocessed['input_type_ids']"
   ]
  },
  {
   "cell_type": "code",
   "execution_count": 11,
   "id": "082bbbce",
   "metadata": {},
   "outputs": [
    {
     "data": {
      "text/plain": [
       "dict_keys(['encoder_outputs', 'default', 'sequence_output', 'pooled_output'])"
      ]
     },
     "execution_count": 11,
     "metadata": {},
     "output_type": "execute_result"
    }
   ],
   "source": [
    "bert_model = hub.KerasLayer(encoder_url)\n",
    "bert_results = bert_model(text_preprocessed)\n",
    "bert_results.keys()"
   ]
  },
  {
   "cell_type": "code",
   "execution_count": 12,
   "id": "0aecd1d1",
   "metadata": {},
   "outputs": [
    {
     "data": {
      "text/plain": [
       "<tf.Tensor: shape=(2, 128, 768), dtype=float32, numpy=\n",
       "array([[[ 0.07292053,  0.08567811,  0.14476846, ..., -0.09677067,\n",
       "          0.08722128,  0.07711104],\n",
       "        [ 0.1783935 , -0.19006078,  0.5034942 , ..., -0.05869839,\n",
       "          0.32717115, -0.15578555],\n",
       "        [ 0.18701448, -0.43388778, -0.48875168, ..., -0.15502736,\n",
       "          0.00145129, -0.2447096 ],\n",
       "        ...,\n",
       "        [ 0.12083042,  0.1288426 ,  0.4645356 , ...,  0.07375526,\n",
       "          0.17441978,  0.165221  ],\n",
       "        [ 0.07967852, -0.01190632,  0.50225437, ...,  0.13777742,\n",
       "          0.21002209,  0.00624598],\n",
       "        [-0.07212704, -0.28303427,  0.5903336 , ...,  0.47551903,\n",
       "          0.16668484, -0.08920316]],\n",
       "\n",
       "       [[-0.0790059 ,  0.3633513 , -0.21101557, ..., -0.1718373 ,\n",
       "          0.16299753,  0.6724265 ],\n",
       "        [ 0.27883515,  0.43716335, -0.3576473 , ..., -0.04463643,\n",
       "          0.38315186,  0.5887984 ],\n",
       "        [ 1.2037671 ,  1.0727018 ,  0.4840877 , ...,  0.24921034,\n",
       "          0.40730911,  0.4048181 ],\n",
       "        ...,\n",
       "        [ 0.08630013,  0.1935384 ,  0.47540036, ...,  0.18880169,\n",
       "         -0.06474102,  0.31318596],\n",
       "        [ 0.15887041,  0.2857266 ,  0.3734078 , ...,  0.09309134,\n",
       "         -0.04969549,  0.38761112],\n",
       "        [-0.08079888, -0.09572833,  0.26809767, ...,  0.13979661,\n",
       "         -0.06315826,  0.2728833 ]]], dtype=float32)>"
      ]
     },
     "execution_count": 12,
     "metadata": {},
     "output_type": "execute_result"
    }
   ],
   "source": [
    "bert_results['sequence_output']\n"
   ]
  },
  {
   "cell_type": "code",
   "execution_count": 13,
   "id": "40c45de2",
   "metadata": {
    "scrolled": true
   },
   "outputs": [
    {
     "data": {
      "text/plain": [
       "<tf.Tensor: shape=(2, 768), dtype=float32, numpy=\n",
       "array([[-0.79177386, -0.214119  ,  0.4976955 , ...,  0.24465233,\n",
       "        -0.4733446 ,  0.8175868 ],\n",
       "       [-0.9171231 , -0.4793517 , -0.7865696 , ..., -0.61751735,\n",
       "        -0.7102685 ,  0.92184293]], dtype=float32)>"
      ]
     },
     "execution_count": 13,
     "metadata": {},
     "output_type": "execute_result"
    }
   ],
   "source": [
    "bert_results['pooled_output']"
   ]
  },
  {
   "cell_type": "code",
   "execution_count": 14,
   "id": "15ab202b",
   "metadata": {},
   "outputs": [
    {
     "data": {
      "text/plain": [
       "[<tf.Tensor: shape=(2, 128, 768), dtype=float32, numpy=\n",
       " array([[[ 0.12901425,  0.00644747, -0.0361497 , ...,  0.04999633,\n",
       "           0.06149192, -0.02657545],\n",
       "         [ 1.1753384 ,  1.2140784 ,  1.1569979 , ...,  0.11634396,\n",
       "          -0.35855335, -0.40490183],\n",
       "         [ 0.03859042,  0.5386996 , -0.21089777, ...,  0.21858197,\n",
       "           0.7260167 , -1.1158603 ],\n",
       "         ...,\n",
       "         [-0.07587016, -0.254219  ,  0.7075511 , ...,  0.50541997,\n",
       "          -0.1887868 ,  0.15028326],\n",
       "         [-0.16066615, -0.28089687,  0.5759706 , ...,  0.52758557,\n",
       "          -0.11141385,  0.02887541],\n",
       "         [-0.0442816 , -0.2027959 ,  0.5909355 , ...,  0.8133834 ,\n",
       "          -0.39075816, -0.02601739]],\n",
       " \n",
       "        [[ 0.1890359 ,  0.02752548, -0.0651374 , ..., -0.00620213,\n",
       "           0.15053894,  0.03165445],\n",
       "         [ 0.5916149 ,  0.7589137 , -0.07240661, ...,  0.6190394 ,\n",
       "           0.8292891 ,  0.16161954],\n",
       "         [ 1.4460827 ,  0.44602644,  0.4099025 , ...,  0.48255914,\n",
       "           0.62691146,  0.13463417],\n",
       "         ...,\n",
       "         [ 0.15147898, -0.21573842,  0.70329076, ..., -0.12537211,\n",
       "          -0.13787258,  0.2772205 ],\n",
       "         [ 0.051438  , -0.24052706,  0.5356913 , ..., -0.07915058,\n",
       "          -0.03307928,  0.1738092 ],\n",
       "         [ 0.20934707, -0.15645266,  0.60395443, ...,  0.3290352 ,\n",
       "          -0.35827187,  0.08100392]]], dtype=float32)>,\n",
       " <tf.Tensor: shape=(2, 128, 768), dtype=float32, numpy=\n",
       " array([[[ 0.01418126, -0.22088256, -0.15028174, ...,  0.1141562 ,\n",
       "           0.126181  ,  0.04843382],\n",
       "         [ 1.2033901 ,  1.3469859 ,  1.7064526 , ...,  0.30610555,\n",
       "          -0.50742525, -0.55147487],\n",
       "         [ 0.42169088,  0.8110244 , -0.25631574, ..., -0.07722521,\n",
       "           0.89372367, -1.4472057 ],\n",
       "         ...,\n",
       "         [-0.19047469, -0.23860851,  0.81412053, ...,  0.9749358 ,\n",
       "          -0.3477423 , -0.08733578],\n",
       "         [-0.27150995, -0.3198498 ,  0.76593864, ...,  0.9676167 ,\n",
       "          -0.29511935, -0.15731794],\n",
       "         [-0.21302739, -0.19229698,  0.7338778 , ...,  1.104044  ,\n",
       "          -0.45102897, -0.20683077]],\n",
       " \n",
       "        [[ 0.08973339, -0.18419698, -0.16645078, ...,  0.02761329,\n",
       "           0.11187719,  0.08041722],\n",
       "         [ 0.5831135 ,  0.5957024 ,  0.36019582, ...,  0.4127007 ,\n",
       "           0.26809165,  0.28400567],\n",
       "         [ 2.1166673 ,  0.51769364,  0.8637747 , ...,  0.71787363,\n",
       "           0.3240509 ,  0.09739982],\n",
       "         ...,\n",
       "         [ 0.2437288 , -0.05775553,  0.6842876 , ...,  0.43483597,\n",
       "          -0.57660943, -0.11131045],\n",
       "         [ 0.16803885, -0.03091812,  0.5863844 , ...,  0.496258  ,\n",
       "          -0.50567967, -0.20782182],\n",
       "         [ 0.24831767,  0.00315472,  0.5159253 , ...,  0.8050238 ,\n",
       "          -0.69899654, -0.2418643 ]]], dtype=float32)>,\n",
       " <tf.Tensor: shape=(2, 128, 768), dtype=float32, numpy=\n",
       " array([[[ 0.02275404, -0.2798025 ,  0.02345721, ...,  0.27867016,\n",
       "           0.11714798,  0.18175077],\n",
       "         [ 1.2574842 ,  0.8725078 ,  1.6266011 , ...,  0.45210895,\n",
       "          -0.8090256 , -0.5448984 ],\n",
       "         [ 0.7521985 ,  0.63573635, -0.20566148, ..., -0.32381848,\n",
       "           0.7574945 , -1.4587919 ],\n",
       "         ...,\n",
       "         [-0.15107435, -0.2112906 ,  0.968946  , ...,  1.1261963 ,\n",
       "          -0.03214099, -0.22340274],\n",
       "         [-0.28125632, -0.31140038,  0.8432894 , ...,  1.1342676 ,\n",
       "          -0.08336622, -0.25161234],\n",
       "         [-0.24449053, -0.21537864,  0.94809854, ...,  1.2419424 ,\n",
       "          -0.19873515, -0.33752593]],\n",
       " \n",
       "        [[ 0.10617063, -0.27990738, -0.01731788, ...,  0.20060432,\n",
       "           0.0814838 ,  0.21859074],\n",
       "         [ 0.68925893,  0.3159147 ,  0.5558667 , ...,  0.69039494,\n",
       "          -0.07141592,  0.41407213],\n",
       "         [ 2.5758877 ,  0.6252089 ,  1.2503716 , ...,  0.43957746,\n",
       "          -0.18525574, -0.05004855],\n",
       "         ...,\n",
       "         [ 0.20464312, -0.01561946,  0.8343148 , ...,  0.801496  ,\n",
       "          -0.12853912, -0.35842034],\n",
       "         [-0.02875652,  0.05097865,  0.6815927 , ...,  0.9003148 ,\n",
       "          -0.12434901, -0.42256373],\n",
       "         [ 0.13327695,  0.02257296,  0.77221733, ...,  1.0211184 ,\n",
       "          -0.30834734, -0.45623174]]], dtype=float32)>,\n",
       " <tf.Tensor: shape=(2, 128, 768), dtype=float32, numpy=\n",
       " array([[[ 0.11484911, -0.64441085, -0.1424515 , ...,  0.254742  ,\n",
       "           0.00378408,  0.611051  ],\n",
       "         [ 1.3035427 ,  0.7706047 ,  1.3184994 , ...,  0.35822424,\n",
       "          -0.6412159 , -0.32795426],\n",
       "         [ 1.1896744 ,  0.6279442 , -0.6750166 , ..., -0.2887064 ,\n",
       "           0.4779185 , -1.2806    ],\n",
       "         ...,\n",
       "         [-0.22614788, -0.6276294 ,  1.0227481 , ...,  0.82923144,\n",
       "          -0.4031471 ,  0.04389285],\n",
       "         [-0.39901465, -0.7561902 ,  0.7489384 , ...,  0.7492267 ,\n",
       "          -0.45077708, -0.00367936],\n",
       "         [-0.3772879 , -0.783104  ,  0.90572476, ...,  0.97362256,\n",
       "          -0.48285744, -0.07389863]],\n",
       " \n",
       "        [[ 0.15151371, -0.7075227 , -0.275204  , ...,  0.44345906,\n",
       "          -0.20920406,  0.49860165],\n",
       "         [ 0.88647944, -0.24838188,  0.7353752 , ...,  0.74179393,\n",
       "          -0.13177218,  0.10158512],\n",
       "         [ 2.5865808 ,  0.6188288 ,  0.52798855, ...,  0.84873134,\n",
       "          -0.5915018 ,  0.0234989 ],\n",
       "         ...,\n",
       "         [-0.05526888, -0.43394655,  1.1783336 , ...,  0.9179168 ,\n",
       "          -0.45718163, -0.25014612],\n",
       "         [-0.2932865 , -0.23091164,  0.9938014 , ...,  1.035379  ,\n",
       "          -0.4243575 , -0.34947646],\n",
       "         [-0.15899125, -0.50098145,  0.9814213 , ...,  1.1373074 ,\n",
       "          -0.6188841 , -0.44457778]]], dtype=float32)>,\n",
       " <tf.Tensor: shape=(2, 128, 768), dtype=float32, numpy=\n",
       " array([[[-0.22174808, -0.42225328, -0.04924033, ..., -0.26284206,\n",
       "           0.06099945,  0.63794875],\n",
       "         [ 1.1627904 ,  0.6770537 ,  1.3072388 , ...,  0.22794633,\n",
       "          -0.543295  , -0.27383357],\n",
       "         [ 1.5308237 ,  0.72225493, -0.4360866 , ...,  0.2743585 ,\n",
       "           0.24980187, -0.98753756],\n",
       "         ...,\n",
       "         [-0.17669725, -0.31260568,  1.0875318 , ...,  0.5924216 ,\n",
       "           0.01275324, -0.28171897],\n",
       "         [-0.34473723, -0.42429993,  0.8798024 , ...,  0.5482607 ,\n",
       "          -0.08151902, -0.34001428],\n",
       "         [-0.48139867, -0.31324267,  1.1702343 , ...,  0.87309873,\n",
       "          -0.07970124, -0.4532551 ]],\n",
       " \n",
       "        [[-0.2160816 , -0.89864177, -0.44991538, ..., -0.08286212,\n",
       "          -0.1722689 ,  0.66199857],\n",
       "         [ 0.6661455 , -0.5491693 ,  0.4646061 , ...,  0.17649308,\n",
       "           0.2282253 ,  0.3496217 ],\n",
       "         [ 2.062962  ,  0.6991983 ,  0.35604483, ...,  0.5295338 ,\n",
       "          -0.34809268,  0.00831355],\n",
       "         ...,\n",
       "         [-0.11594073, -0.1714924 ,  0.89944017, ...,  0.62990195,\n",
       "          -0.33990276, -0.20049208],\n",
       "         [-0.13007519, -0.02739046,  0.7079979 , ...,  0.8059459 ,\n",
       "          -0.30724174, -0.19956338],\n",
       "         [-0.26314908, -0.2613703 ,  0.6338565 , ...,  0.81501794,\n",
       "          -0.45400319, -0.3512063 ]]], dtype=float32)>,\n",
       " <tf.Tensor: shape=(2, 128, 768), dtype=float32, numpy=\n",
       " array([[[-0.03392677, -0.39431506,  0.04223742, ..., -0.07905573,\n",
       "           0.01993856,  0.76920676],\n",
       "         [ 1.4294362 , -0.08699033,  1.5299488 , ...,  0.22512133,\n",
       "          -1.0060076 , -0.23702344],\n",
       "         [ 1.5031748 ,  0.6725798 , -0.5259015 , ...,  0.10906912,\n",
       "           0.27042368, -1.2567503 ],\n",
       "         ...,\n",
       "         [-0.300335  , -0.02261892,  1.3187408 , ...,  0.69288766,\n",
       "          -0.09798415, -0.17419672],\n",
       "         [-0.4375412 , -0.21149176,  1.1094577 , ...,  0.50065994,\n",
       "          -0.17692393, -0.18529107],\n",
       "         [-0.6592049 , -0.19607899,  1.3134067 , ...,  0.7320078 ,\n",
       "          -0.19967297, -0.3246916 ]],\n",
       " \n",
       "        [[-0.27334666, -0.9526845 , -0.7869662 , ..., -0.12205318,\n",
       "          -0.08783841,  0.7581165 ],\n",
       "         [ 0.4675701 , -0.16237533, -0.01155849, ...,  0.18781245,\n",
       "           0.6216468 ,  0.03009894],\n",
       "         [ 1.7947396 ,  0.9051078 ,  0.0858091 , ...,  0.77093583,\n",
       "          -0.6682787 , -0.06755498],\n",
       "         ...,\n",
       "         [-0.18337505, -0.1580656 ,  1.1826947 , ...,  0.83047515,\n",
       "          -0.39406523, -0.23047721],\n",
       "         [-0.22270153,  0.00976046,  0.9340845 , ...,  1.1286675 ,\n",
       "          -0.34884357, -0.19491433],\n",
       "         [-0.3038616 , -0.2968306 ,  0.82471675, ...,  1.0090812 ,\n",
       "          -0.4640766 , -0.3146557 ]]], dtype=float32)>,\n",
       " <tf.Tensor: shape=(2, 128, 768), dtype=float32, numpy=\n",
       " array([[[-0.23803425, -0.665541  ,  0.29917184, ...,  0.03415165,\n",
       "           0.29362845,  0.96536356],\n",
       "         [ 1.5040764 ,  0.00695046,  1.4314135 , ...,  0.24628735,\n",
       "          -0.5521961 , -0.32215583],\n",
       "         [ 1.362903  ,  0.4774179 , -0.61529833, ...,  0.0858696 ,\n",
       "           0.43922496, -1.5594156 ],\n",
       "         ...,\n",
       "         [-0.16863956,  0.00209728,  1.3201768 , ...,  0.9428039 ,\n",
       "          -0.04737327,  0.2149043 ],\n",
       "         [-0.2666639 , -0.24881187,  1.2213261 , ...,  0.63527966,\n",
       "          -0.04442455,  0.04466295],\n",
       "         [-0.53366166, -0.35796073,  1.3447869 , ...,  0.60384446,\n",
       "          -0.08427121, -0.15712008]],\n",
       " \n",
       "        [[-0.0596746 , -0.84482145, -0.89390206, ..., -0.10863882,\n",
       "           0.4093239 ,  0.79408604],\n",
       "         [ 0.5440511 , -0.3196291 , -0.45491534, ...,  0.4806865 ,\n",
       "           0.77862513,  0.22774251],\n",
       "         [ 1.4479864 ,  1.1230619 ,  0.09567988, ...,  1.3554293 ,\n",
       "           0.06143539, -0.00836906],\n",
       "         ...,\n",
       "         [ 0.25652263, -0.1410653 ,  1.1854345 , ...,  0.95683676,\n",
       "          -0.21604018, -0.06946395],\n",
       "         [ 0.25819165,  0.0794924 ,  0.98516464, ...,  1.0518215 ,\n",
       "          -0.07890947, -0.12841514],\n",
       "         [-0.05268887, -0.33431286,  0.963734  , ...,  0.89606965,\n",
       "          -0.10082412, -0.28129545]]], dtype=float32)>,\n",
       " <tf.Tensor: shape=(2, 128, 768), dtype=float32, numpy=\n",
       " array([[[-7.0826799e-02, -2.5689909e-01, -3.5962403e-02, ...,\n",
       "          -3.5881272e-01,  1.3524787e-01,  1.0136118e+00],\n",
       "         [ 9.7471958e-01, -1.9712909e-01,  1.4318081e+00, ...,\n",
       "          -1.4052071e-01, -5.0432269e-02, -2.7142420e-02],\n",
       "         [ 1.1273400e+00,  2.7122784e-01, -2.8622898e-01, ...,\n",
       "           9.3385398e-02,  2.9908264e-01, -1.3764440e+00],\n",
       "         ...,\n",
       "         [-9.5786408e-02,  2.9180819e-01,  1.5879158e+00, ...,\n",
       "           8.5004252e-01, -5.1284473e-02,  2.0340112e-01],\n",
       "         [-2.2268827e-01, -8.3895400e-02,  1.7256018e+00, ...,\n",
       "           6.1222172e-01,  1.0976589e-01,  7.0047155e-02],\n",
       "         [-5.7830060e-01, -3.5915649e-01,  1.6035966e+00, ...,\n",
       "           3.4189856e-01,  5.2881416e-02, -1.5400860e-01]],\n",
       " \n",
       "        [[ 6.1017681e-02, -3.5161608e-01, -8.4891474e-01, ...,\n",
       "          -4.8554975e-01,  4.2703089e-01,  6.3828987e-01],\n",
       "         [ 6.6376525e-01,  1.8275157e-04, -7.9078853e-01, ...,\n",
       "           3.0687007e-01,  7.5843716e-01,  7.3240119e-01],\n",
       "         [ 1.4494696e+00,  1.1265041e+00,  1.7709225e-01, ...,\n",
       "           2.3471555e-01,  3.4929508e-01,  4.3709761e-01],\n",
       "         ...,\n",
       "         [ 3.2339525e-01,  1.7575893e-01,  8.7672347e-01, ...,\n",
       "           9.8904085e-01, -2.7050868e-01, -3.0809426e-01],\n",
       "         [ 4.0404317e-01,  5.1364988e-01,  7.2748125e-01, ...,\n",
       "           9.4942039e-01, -1.0215355e-02, -3.4644294e-01],\n",
       "         [-9.1303373e-03, -8.7015763e-02,  7.3031771e-01, ...,\n",
       "           8.5439724e-01, -1.3661288e-01, -4.7493470e-01]]], dtype=float32)>,\n",
       " <tf.Tensor: shape=(2, 128, 768), dtype=float32, numpy=\n",
       " array([[[-0.09403464, -0.05987597, -0.01171682, ..., -0.22167486,\n",
       "          -0.07650149,  0.5765818 ],\n",
       "         [ 0.7748067 ,  0.15188257,  1.0920007 , ..., -0.19562401,\n",
       "           0.1517316 , -0.01071463],\n",
       "         [ 0.85191315,  0.25842726, -0.7703556 , ...,  0.03356645,\n",
       "           0.34010437, -1.3918684 ],\n",
       "         ...,\n",
       "         [-0.19780304,  0.5281972 ,  0.90235394, ...,  0.27919748,\n",
       "          -0.28764027,  0.7510936 ],\n",
       "         [-0.3506738 ,  0.09292018,  1.3383353 , ...,  0.22619629,\n",
       "          -0.03589038,  0.27343982],\n",
       "         [-0.9044512 , -0.20991205,  1.1977348 , ...,  0.35118574,\n",
       "          -0.21743652,  0.01482396]],\n",
       " \n",
       "        [[-0.07011089, -0.02392511, -0.6192435 , ..., -0.1454202 ,\n",
       "           0.34049386,  0.41224715],\n",
       "         [ 0.5926161 ,  0.19015932, -0.3739956 , ...,  0.37239644,\n",
       "           0.3915293 ,  0.42580405],\n",
       "         [ 1.1394771 ,  0.84398574,  0.38893983, ...,  0.20898306,\n",
       "           0.25176352,  0.264     ],\n",
       "         ...,\n",
       "         [ 0.43305966,  0.42012173,  1.0965102 , ...,  1.1872365 ,\n",
       "          -0.16672121,  0.00856157],\n",
       "         [ 0.57542366,  0.86609423,  1.1184689 , ...,  1.0475054 ,\n",
       "           0.04264346, -0.01540394],\n",
       "         [-0.05487933, -0.07306799,  0.901221  , ...,  0.8004531 ,\n",
       "          -0.16820633, -0.35507318]]], dtype=float32)>,\n",
       " <tf.Tensor: shape=(2, 128, 768), dtype=float32, numpy=\n",
       " array([[[-0.22671339,  0.03110878,  0.3218611 , ..., -0.2809017 ,\n",
       "          -0.750508  ,  0.4455798 ],\n",
       "         [ 0.77125585,  0.11217963,  0.66033196, ..., -0.09223809,\n",
       "           0.3482116 , -0.3690517 ],\n",
       "         [ 0.5122405 , -0.1992901 , -0.8477506 , ..., -0.28812078,\n",
       "           0.22383727, -1.2124603 ],\n",
       "         ...,\n",
       "         [ 0.12500718,  0.6663397 ,  0.9852214 , ..., -0.08709415,\n",
       "          -0.5805456 ,  0.6127236 ],\n",
       "         [ 0.01400343,  0.10471287,  1.2684823 , ..., -0.0183318 ,\n",
       "          -0.35933247,  0.15463276],\n",
       "         [-0.80938405, -0.36068037,  1.3501272 , ...,  0.5893605 ,\n",
       "          -0.5093233 , -0.09766853]],\n",
       " \n",
       "        [[-0.21534978, -0.23962216, -0.30932432, ..., -0.25964978,\n",
       "           0.0969525 ,  0.41826648],\n",
       "         [ 0.50700617, -0.0154482 , -0.1051966 , ...,  0.38675365,\n",
       "           0.22041138, -0.10293266],\n",
       "         [ 1.0366048 ,  0.91713107,  0.26164177, ...,  0.33182153,\n",
       "           0.4559697 ,  0.1269788 ],\n",
       "         ...,\n",
       "         [ 0.16190583,  0.7627012 ,  1.273767  , ...,  0.5726002 ,\n",
       "          -0.05929511,  0.26224095],\n",
       "         [ 0.46124548,  1.1673872 ,  0.9594769 , ...,  0.46032983,\n",
       "           0.13521343,  0.45136017],\n",
       "         [-0.24183992,  0.17352839,  0.8415637 , ...,  0.2476693 ,\n",
       "          -0.14810258,  0.06557429]]], dtype=float32)>,\n",
       " <tf.Tensor: shape=(2, 128, 768), dtype=float32, numpy=\n",
       " array([[[-2.1951623e-02,  2.1303590e-01,  3.1135932e-01, ...,\n",
       "          -2.3917881e-01, -2.7870825e-01,  2.0408484e-01],\n",
       "         [ 8.3098388e-01,  1.9078128e-01,  7.1134585e-01, ...,\n",
       "          -3.0024481e-01,  3.1152403e-01, -2.5934082e-01],\n",
       "         [ 3.7308896e-01, -4.2212662e-01, -6.6690910e-01, ...,\n",
       "          -4.5297581e-01,  3.2045168e-01, -2.9988602e-01],\n",
       "         ...,\n",
       "         [ 3.3166522e-01,  7.1835864e-01,  8.9961123e-01, ...,\n",
       "          -3.4914505e-01, -2.9986933e-01,  5.2388787e-01],\n",
       "         [ 2.3853257e-01,  2.0484489e-01,  1.1306429e+00, ...,\n",
       "          -1.5113042e-01, -1.3781209e-01,  7.6999679e-02],\n",
       "         [-3.8412070e-01, -3.8158652e-01,  1.3397284e+00, ...,\n",
       "           5.7755512e-01, -1.5539987e-01, -2.9294494e-01]],\n",
       " \n",
       "        [[ 1.4363036e-01,  1.6980183e-01,  4.5120142e-02, ...,\n",
       "          -6.2167678e-02, -1.5753219e-02,  2.8786963e-01],\n",
       "         [ 5.8476025e-01,  2.6993328e-01, -2.8520656e-01, ...,\n",
       "           3.3893132e-01,  1.1777318e-01,  3.6986358e-02],\n",
       "         [ 1.2525785e+00,  1.2556444e+00,  3.8754436e-01, ...,\n",
       "           1.7275815e-01,  4.9666166e-01,  6.1378127e-01],\n",
       "         ...,\n",
       "         [ 1.9548562e-01,  4.4081962e-01,  1.0389361e+00, ...,\n",
       "           1.4527038e-01, -2.7743882e-01,  1.9032209e-01],\n",
       "         [ 4.4816503e-01,  7.6447737e-01,  6.9800478e-01, ...,\n",
       "          -8.3579030e-04, -7.9644479e-02,  4.9335858e-01],\n",
       "         [-2.3398086e-01, -2.0333546e-01,  3.4824753e-01, ...,\n",
       "          -6.4341247e-02, -3.2087582e-01,  2.2334464e-02]]], dtype=float32)>,\n",
       " <tf.Tensor: shape=(2, 128, 768), dtype=float32, numpy=\n",
       " array([[[ 0.07292053,  0.08567811,  0.14476846, ..., -0.09677067,\n",
       "           0.08722128,  0.07711104],\n",
       "         [ 0.1783935 , -0.19006078,  0.5034942 , ..., -0.05869839,\n",
       "           0.32717115, -0.15578555],\n",
       "         [ 0.18701448, -0.43388778, -0.48875168, ..., -0.15502736,\n",
       "           0.00145129, -0.2447096 ],\n",
       "         ...,\n",
       "         [ 0.12083042,  0.1288426 ,  0.4645356 , ...,  0.07375526,\n",
       "           0.17441978,  0.165221  ],\n",
       "         [ 0.07967852, -0.01190632,  0.50225437, ...,  0.13777742,\n",
       "           0.21002209,  0.00624598],\n",
       "         [-0.07212704, -0.28303427,  0.5903336 , ...,  0.47551903,\n",
       "           0.16668484, -0.08920316]],\n",
       " \n",
       "        [[-0.0790059 ,  0.3633513 , -0.21101557, ..., -0.1718373 ,\n",
       "           0.16299753,  0.6724265 ],\n",
       "         [ 0.27883515,  0.43716335, -0.3576473 , ..., -0.04463643,\n",
       "           0.38315186,  0.5887984 ],\n",
       "         [ 1.2037671 ,  1.0727018 ,  0.4840877 , ...,  0.24921034,\n",
       "           0.40730911,  0.4048181 ],\n",
       "         ...,\n",
       "         [ 0.08630013,  0.1935384 ,  0.47540036, ...,  0.18880169,\n",
       "          -0.06474102,  0.31318596],\n",
       "         [ 0.15887041,  0.2857266 ,  0.3734078 , ...,  0.09309134,\n",
       "          -0.04969549,  0.38761112],\n",
       "         [-0.08079888, -0.09572833,  0.26809767, ...,  0.13979661,\n",
       "          -0.06315826,  0.2728833 ]]], dtype=float32)>]"
      ]
     },
     "execution_count": 14,
     "metadata": {},
     "output_type": "execute_result"
    }
   ],
   "source": [
    "bert_results['encoder_outputs']"
   ]
  },
  {
   "cell_type": "code",
   "execution_count": 17,
   "id": "e3a817b0",
   "metadata": {
    "scrolled": true
   },
   "outputs": [
    {
     "data": {
      "text/plain": [
       "768"
      ]
     },
     "execution_count": 17,
     "metadata": {},
     "output_type": "execute_result"
    }
   ],
   "source": [
    "len(bert_results['pooled_output'][0])"
   ]
  },
  {
   "cell_type": "code",
   "execution_count": 18,
   "id": "60c39293",
   "metadata": {},
   "outputs": [
    {
     "data": {
      "text/plain": [
       "768"
      ]
     },
     "execution_count": 18,
     "metadata": {},
     "output_type": "execute_result"
    }
   ],
   "source": [
    "len(bert_results['pooled_output'][1])"
   ]
  },
  {
   "cell_type": "code",
   "execution_count": 19,
   "id": "94eaf338",
   "metadata": {},
   "outputs": [],
   "source": [
    "import seaborn as sns\n",
    "from sklearn.metrics import pairwise\n",
    "\n",
    "def plot_similarity(features, labels):\n",
    "  \"\"\"Plot a similarity matrix of the embeddings.\"\"\"\n",
    "  cos_sim = pairwise.cosine_similarity(features)\n",
    "  sns.set(font_scale=1.2)\n",
    "  cbar_kws=dict(use_gridspec=False, location=\"left\")\n",
    "  g = sns.heatmap(\n",
    "      cos_sim, xticklabels=labels, yticklabels=labels,\n",
    "      vmin=0, vmax=1, cmap=\"Blues\", cbar_kws=cbar_kws)\n",
    "  g.tick_params(labelright=True, labelleft=False)\n",
    "  g.set_yticklabels(labels, rotation=0)\n",
    "  g.set_title(\"Semantic Textual Similarity\")"
   ]
  },
  {
   "cell_type": "code",
   "execution_count": 20,
   "id": "1fa5dbbb",
   "metadata": {},
   "outputs": [
    {
     "data": {
      "image/png": "[encoded data removed]",
      "text/plain": [
       "<Figure size 432x288 with 2 Axes>"
      ]
     },
     "metadata": {
      "needs_background": "light"
     },
     "output_type": "display_data"
    }
   ],
   "source": [
    "plot_similarity(bert_results['pooled_output'],text_test)"
   ]
  },
  {
   "cell_type": "code",
   "execution_count": 26,
   "id": "eaf80dc5",
   "metadata": {
    "scrolled": true
   },
   "outputs": [
    {
     "ename": "ParserError",
     "evalue": "Error tokenizing data. C error: Expected 56 fields in line 30, saw 71\n",
     "output_type": "error",
     "traceback": [
      "\u001b[1;31m---------------------------------------------------------------------------\u001b[0m",
      "\u001b[1;31mParserError\u001b[0m                               Traceback (most recent call last)",
      "Input \u001b[1;32mIn [26]\u001b[0m, in \u001b[0;36m<cell line: 2>\u001b[1;34m()\u001b[0m\n\u001b[0;32m      1\u001b[0m \u001b[38;5;28;01mimport\u001b[39;00m \u001b[38;5;21;01mpandas\u001b[39;00m \u001b[38;5;28;01mas\u001b[39;00m \u001b[38;5;21;01mpd\u001b[39;00m\n\u001b[1;32m----> 2\u001b[0m data \u001b[38;5;241m=\u001b[39m \u001b[43mpd\u001b[49m\u001b[38;5;241;43m.\u001b[39;49m\u001b[43mread_csv\u001b[49m\u001b[43m(\u001b[49m\u001b[38;5;124;43m'\u001b[39;49m\u001b[38;5;124;43mC:/Users/hp/Downloads/Datase_v1.csv\u001b[39;49m\u001b[38;5;124;43m'\u001b[39;49m\u001b[43m)\u001b[49m\n\u001b[0;32m      3\u001b[0m data\u001b[38;5;241m.\u001b[39mhead()\n",
      "File \u001b[1;32m~\\AppData\\Local\\Programs\\Python\\Python310\\lib\\site-packages\\pandas\\util\\_decorators.py:311\u001b[0m, in \u001b[0;36mdeprecate_nonkeyword_arguments.<locals>.decorate.<locals>.wrapper\u001b[1;34m(*args, **kwargs)\u001b[0m\n\u001b[0;32m    305\u001b[0m \u001b[38;5;28;01mif\u001b[39;00m \u001b[38;5;28mlen\u001b[39m(args) \u001b[38;5;241m>\u001b[39m num_allow_args:\n\u001b[0;32m    306\u001b[0m     warnings\u001b[38;5;241m.\u001b[39mwarn(\n\u001b[0;32m    307\u001b[0m         msg\u001b[38;5;241m.\u001b[39mformat(arguments\u001b[38;5;241m=\u001b[39marguments),\n\u001b[0;32m    308\u001b[0m         \u001b[38;5;167;01mFutureWarning\u001b[39;00m,\n\u001b[0;32m    309\u001b[0m         stacklevel\u001b[38;5;241m=\u001b[39mstacklevel,\n\u001b[0;32m    310\u001b[0m     )\n\u001b[1;32m--> 311\u001b[0m \u001b[38;5;28;01mreturn\u001b[39;00m func(\u001b[38;5;241m*\u001b[39margs, \u001b[38;5;241m*\u001b[39m\u001b[38;5;241m*\u001b[39mkwargs)\n",
      "File \u001b[1;32m~\\AppData\\Local\\Programs\\Python\\Python310\\lib\\site-packages\\pandas\\io\\parsers\\readers.py:680\u001b[0m, in \u001b[0;36mread_csv\u001b[1;34m(filepath_or_buffer, sep, delimiter, header, names, index_col, usecols, squeeze, prefix, mangle_dupe_cols, dtype, engine, converters, true_values, false_values, skipinitialspace, skiprows, skipfooter, nrows, na_values, keep_default_na, na_filter, verbose, skip_blank_lines, parse_dates, infer_datetime_format, keep_date_col, date_parser, dayfirst, cache_dates, iterator, chunksize, compression, thousands, decimal, lineterminator, quotechar, quoting, doublequote, escapechar, comment, encoding, encoding_errors, dialect, error_bad_lines, warn_bad_lines, on_bad_lines, delim_whitespace, low_memory, memory_map, float_precision, storage_options)\u001b[0m\n\u001b[0;32m    665\u001b[0m kwds_defaults \u001b[38;5;241m=\u001b[39m _refine_defaults_read(\n\u001b[0;32m    666\u001b[0m     dialect,\n\u001b[0;32m    667\u001b[0m     delimiter,\n\u001b[1;32m   (...)\u001b[0m\n\u001b[0;32m    676\u001b[0m     defaults\u001b[38;5;241m=\u001b[39m{\u001b[38;5;124m\"\u001b[39m\u001b[38;5;124mdelimiter\u001b[39m\u001b[38;5;124m\"\u001b[39m: \u001b[38;5;124m\"\u001b[39m\u001b[38;5;124m,\u001b[39m\u001b[38;5;124m\"\u001b[39m},\n\u001b[0;32m    677\u001b[0m )\n\u001b[0;32m    678\u001b[0m kwds\u001b[38;5;241m.\u001b[39mupdate(kwds_defaults)\n\u001b[1;32m--> 680\u001b[0m \u001b[38;5;28;01mreturn\u001b[39;00m \u001b[43m_read\u001b[49m\u001b[43m(\u001b[49m\u001b[43mfilepath_or_buffer\u001b[49m\u001b[43m,\u001b[49m\u001b[43m \u001b[49m\u001b[43mkwds\u001b[49m\u001b[43m)\u001b[49m\n",
      "File \u001b[1;32m~\\AppData\\Local\\Programs\\Python\\Python310\\lib\\site-packages\\pandas\\io\\parsers\\readers.py:581\u001b[0m, in \u001b[0;36m_read\u001b[1;34m(filepath_or_buffer, kwds)\u001b[0m\n\u001b[0;32m    578\u001b[0m     \u001b[38;5;28;01mreturn\u001b[39;00m parser\n\u001b[0;32m    580\u001b[0m \u001b[38;5;28;01mwith\u001b[39;00m parser:\n\u001b[1;32m--> 581\u001b[0m     \u001b[38;5;28;01mreturn\u001b[39;00m \u001b[43mparser\u001b[49m\u001b[38;5;241;43m.\u001b[39;49m\u001b[43mread\u001b[49m\u001b[43m(\u001b[49m\u001b[43mnrows\u001b[49m\u001b[43m)\u001b[49m\n",
      "File \u001b[1;32m~\\AppData\\Local\\Programs\\Python\\Python310\\lib\\site-packages\\pandas\\io\\parsers\\readers.py:1254\u001b[0m, in \u001b[0;36mTextFileReader.read\u001b[1;34m(self, nrows)\u001b[0m\n\u001b[0;32m   1252\u001b[0m nrows \u001b[38;5;241m=\u001b[39m validate_integer(\u001b[38;5;124m\"\u001b[39m\u001b[38;5;124mnrows\u001b[39m\u001b[38;5;124m\"\u001b[39m, nrows)\n\u001b[0;32m   1253\u001b[0m \u001b[38;5;28;01mtry\u001b[39;00m:\n\u001b[1;32m-> 1254\u001b[0m     index, columns, col_dict \u001b[38;5;241m=\u001b[39m \u001b[38;5;28;43mself\u001b[39;49m\u001b[38;5;241;43m.\u001b[39;49m\u001b[43m_engine\u001b[49m\u001b[38;5;241;43m.\u001b[39;49m\u001b[43mread\u001b[49m\u001b[43m(\u001b[49m\u001b[43mnrows\u001b[49m\u001b[43m)\u001b[49m\n\u001b[0;32m   1255\u001b[0m \u001b[38;5;28;01mexcept\u001b[39;00m \u001b[38;5;167;01mException\u001b[39;00m:\n\u001b[0;32m   1256\u001b[0m     \u001b[38;5;28mself\u001b[39m\u001b[38;5;241m.\u001b[39mclose()\n",
      "File \u001b[1;32m~\\AppData\\Local\\Programs\\Python\\Python310\\lib\\site-packages\\pandas\\io\\parsers\\c_parser_wrapper.py:225\u001b[0m, in \u001b[0;36mCParserWrapper.read\u001b[1;34m(self, nrows)\u001b[0m\n\u001b[0;32m    223\u001b[0m \u001b[38;5;28;01mtry\u001b[39;00m:\n\u001b[0;32m    224\u001b[0m     \u001b[38;5;28;01mif\u001b[39;00m \u001b[38;5;28mself\u001b[39m\u001b[38;5;241m.\u001b[39mlow_memory:\n\u001b[1;32m--> 225\u001b[0m         chunks \u001b[38;5;241m=\u001b[39m \u001b[38;5;28;43mself\u001b[39;49m\u001b[38;5;241;43m.\u001b[39;49m\u001b[43m_reader\u001b[49m\u001b[38;5;241;43m.\u001b[39;49m\u001b[43mread_low_memory\u001b[49m\u001b[43m(\u001b[49m\u001b[43mnrows\u001b[49m\u001b[43m)\u001b[49m\n\u001b[0;32m    226\u001b[0m         \u001b[38;5;66;03m# destructive to chunks\u001b[39;00m\n\u001b[0;32m    227\u001b[0m         data \u001b[38;5;241m=\u001b[39m _concatenate_chunks(chunks)\n",
      "File \u001b[1;32m~\\AppData\\Local\\Programs\\Python\\Python310\\lib\\site-packages\\pandas\\_libs\\parsers.pyx:805\u001b[0m, in \u001b[0;36mpandas._libs.parsers.TextReader.read_low_memory\u001b[1;34m()\u001b[0m\n",
      "File \u001b[1;32m~\\AppData\\Local\\Programs\\Python\\Python310\\lib\\site-packages\\pandas\\_libs\\parsers.pyx:861\u001b[0m, in \u001b[0;36mpandas._libs.parsers.TextReader._read_rows\u001b[1;34m()\u001b[0m\n",
      "File \u001b[1;32m~\\AppData\\Local\\Programs\\Python\\Python310\\lib\\site-packages\\pandas\\_libs\\parsers.pyx:847\u001b[0m, in \u001b[0;36mpandas._libs.parsers.TextReader._tokenize_rows\u001b[1;34m()\u001b[0m\n",
      "File \u001b[1;32m~\\AppData\\Local\\Programs\\Python\\Python310\\lib\\site-packages\\pandas\\_libs\\parsers.pyx:1960\u001b[0m, in \u001b[0;36mpandas._libs.parsers.raise_parser_error\u001b[1;34m()\u001b[0m\n",
      "\u001b[1;31mParserError\u001b[0m: Error tokenizing data. C error: Expected 56 fields in line 30, saw 71\n"
     ]
    }
   ],
   "source": [
    "import pandas as pd\n",
    "data = pd.read_csv('C:/Users/hp/Downloads/Datase_v1.csv')\n",
    "data.head()"
   ]
  },
  {
   "cell_type": "code",
   "execution_count": 23,
   "id": "69e722f7",
   "metadata": {},
   "outputs": [
    {
     "data": {
      "text/plain": [
       "<tf.Tensor: shape=(2, 128, 768), dtype=float32, numpy=\n",
       "array([[[ 0.07292053,  0.08567811,  0.14476846, ..., -0.09677067,\n",
       "          0.08722128,  0.07711104],\n",
       "        [ 0.1783935 , -0.19006078,  0.5034942 , ..., -0.05869839,\n",
       "          0.32717115, -0.15578555],\n",
       "        [ 0.18701448, -0.43388778, -0.48875168, ..., -0.15502736,\n",
       "          0.00145129, -0.2447096 ],\n",
       "        ...,\n",
       "        [ 0.12083042,  0.1288426 ,  0.4645356 , ...,  0.07375526,\n",
       "          0.17441978,  0.165221  ],\n",
       "        [ 0.07967852, -0.01190632,  0.50225437, ...,  0.13777742,\n",
       "          0.21002209,  0.00624598],\n",
       "        [-0.07212704, -0.28303427,  0.5903336 , ...,  0.47551903,\n",
       "          0.16668484, -0.08920316]],\n",
       "\n",
       "       [[-0.0790059 ,  0.3633513 , -0.21101557, ..., -0.1718373 ,\n",
       "          0.16299753,  0.6724265 ],\n",
       "        [ 0.27883515,  0.43716335, -0.3576473 , ..., -0.04463643,\n",
       "          0.38315186,  0.5887984 ],\n",
       "        [ 1.2037671 ,  1.0727018 ,  0.4840877 , ...,  0.24921034,\n",
       "          0.40730911,  0.4048181 ],\n",
       "        ...,\n",
       "        [ 0.08630013,  0.1935384 ,  0.47540036, ...,  0.18880169,\n",
       "         -0.06474102,  0.31318596],\n",
       "        [ 0.15887041,  0.2857266 ,  0.3734078 , ...,  0.09309134,\n",
       "         -0.04969549,  0.38761112],\n",
       "        [-0.08079888, -0.09572833,  0.26809767, ...,  0.13979661,\n",
       "         -0.06315826,  0.2728833 ]]], dtype=float32)>"
      ]
     },
     "execution_count": 23,
     "metadata": {},
     "output_type": "execute_result"
    }
   ],
   "source": [
    "import pandas as pd\n",
    "data = pd.read_csv('C:/Users/hp/Downloads/Datase_v1.csv')\n",
    "data.head()"
   ]
  },
  {
   "cell_type": "code",
   "execution_count": null,
   "id": "c1a19ea7",
   "metadata": {},
   "outputs": [],
   "source": []
  }
 ],
 "metadata": {
  "kernelspec": {
   "display_name": "Python 3 (ipykernel)",
   "language": "python",
   "name": "python3"
  },
  "language_info": {
   "codemirror_mode": {
    "name": "ipython",
    "version": 3
   },
   "file_extension": ".py",
   "mimetype": "text/x-python",
   "name": "python",
   "nbconvert_exporter": "python",
   "pygments_lexer": "ipython3",
   "version": "3.10.5"
  }
 },
 "nbformat": 4,
 "nbformat_minor": 5
}
